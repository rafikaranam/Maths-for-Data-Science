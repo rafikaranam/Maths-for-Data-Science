{
 "cells": [
  {
   "cell_type": "code",
   "execution_count": 1,
   "id": "5370ba65",
   "metadata": {},
   "outputs": [],
   "source": [
    "import numpy as np"
   ]
  },
  {
   "cell_type": "code",
   "execution_count": 15,
   "id": "6e41050c",
   "metadata": {},
   "outputs": [
    {
     "data": {
      "text/plain": [
       "array([[  5., -10.,  -5.],\n",
       "       [  2.,  14.,   2.],\n",
       "       [ -4.,  -8.,   6.]])"
      ]
     },
     "execution_count": 15,
     "metadata": {},
     "output_type": "execute_result"
    }
   ],
   "source": [
    "A = np.array([[5,-10,-5],[2,14,2],[-4,-8,6]],dtype = np.float_)\n",
    "A"
   ]
  },
  {
   "cell_type": "code",
   "execution_count": 16,
   "id": "f31fc310",
   "metadata": {},
   "outputs": [],
   "source": [
    "eigen_val, eigen_vec = np.linalg.eig(A)"
   ]
  },
  {
   "cell_type": "code",
   "execution_count": 17,
   "id": "4f9d096b",
   "metadata": {},
   "outputs": [
    {
     "name": "stdout",
     "output_type": "stream",
     "text": [
      "[ 5. 10. 10.]\n",
      "[[-7.45355992e-01 -1.38346519e-15 -6.59218168e-01]\n",
      " [ 2.98142397e-01  4.47213595e-01  5.73047151e-01]\n",
      " [-5.96284794e-01 -8.94427191e-01 -4.86876134e-01]]\n"
     ]
    }
   ],
   "source": [
    "print(eigen_val)\n",
    "print(eigen_vec)"
   ]
  },
  {
   "cell_type": "markdown",
   "id": "feb9b603",
   "metadata": {},
   "source": [
    "#Eigen Decomposition\n",
    "A = Q X D X inv(Q) \n",
    "Q -> Eigen vectors, D->Diagnol matrix of eigen values"
   ]
  },
  {
   "cell_type": "code",
   "execution_count": 18,
   "id": "d13ffe4c",
   "metadata": {},
   "outputs": [],
   "source": [
    "Q = eigen_vec"
   ]
  },
  {
   "cell_type": "code",
   "execution_count": 19,
   "id": "4f9cc31d",
   "metadata": {},
   "outputs": [],
   "source": [
    "R = np.linalg.inv(Q)"
   ]
  },
  {
   "cell_type": "code",
   "execution_count": 20,
   "id": "f342a7c1",
   "metadata": {},
   "outputs": [],
   "source": [
    "D = np.diag(eigen_val)"
   ]
  },
  {
   "cell_type": "code",
   "execution_count": 21,
   "id": "ee2d45c7",
   "metadata": {},
   "outputs": [
    {
     "name": "stdout",
     "output_type": "stream",
     "text": [
      "[[-7.45355992e-01 -1.38346519e-15 -6.59218168e-01]\n",
      " [ 2.98142397e-01  4.47213595e-01  5.73047151e-01]\n",
      " [-5.96284794e-01 -8.94427191e-01 -4.86876134e-01]]\n"
     ]
    }
   ],
   "source": [
    "print(Q)"
   ]
  },
  {
   "cell_type": "code",
   "execution_count": 22,
   "id": "22dd6464",
   "metadata": {},
   "outputs": [
    {
     "name": "stdout",
     "output_type": "stream",
     "text": [
      "[[-1.34164079e+00 -2.68328157e+00 -1.34164079e+00]\n",
      " [ 8.94427191e-01  1.37370573e-01 -1.04934870e+00]\n",
      " [-9.43124634e-16  3.03389697e+00  1.51694848e+00]]\n"
     ]
    }
   ],
   "source": [
    "print(R)"
   ]
  },
  {
   "cell_type": "code",
   "execution_count": 23,
   "id": "483adc68",
   "metadata": {},
   "outputs": [
    {
     "name": "stdout",
     "output_type": "stream",
     "text": [
      "[[ 5.  0.  0.]\n",
      " [ 0. 10.  0.]\n",
      " [ 0.  0. 10.]]\n"
     ]
    }
   ],
   "source": [
    "print(D)"
   ]
  },
  {
   "cell_type": "code",
   "execution_count": 24,
   "id": "3a86c713",
   "metadata": {},
   "outputs": [],
   "source": [
    "Edecomp = Q.dot(D).dot(R)"
   ]
  },
  {
   "cell_type": "code",
   "execution_count": 25,
   "id": "1b311913",
   "metadata": {},
   "outputs": [
    {
     "data": {
      "text/plain": [
       "array([[  5., -10.,  -5.],\n",
       "       [  2.,  14.,   2.],\n",
       "       [ -4.,  -8.,   6.]])"
      ]
     },
     "execution_count": 25,
     "metadata": {},
     "output_type": "execute_result"
    }
   ],
   "source": [
    "Edecomp"
   ]
  },
  {
   "cell_type": "code",
   "execution_count": 26,
   "id": "bad827f4",
   "metadata": {},
   "outputs": [
    {
     "data": {
      "text/plain": [
       "array([[  5., -10.,  -5.],\n",
       "       [  2.,  14.,   2.],\n",
       "       [ -4.,  -8.,   6.]])"
      ]
     },
     "execution_count": 26,
     "metadata": {},
     "output_type": "execute_result"
    }
   ],
   "source": [
    "A"
   ]
  },
  {
   "cell_type": "code",
   "execution_count": null,
   "id": "ae4bad48",
   "metadata": {},
   "outputs": [],
   "source": []
  }
 ],
 "metadata": {
  "kernelspec": {
   "display_name": "Python 3 (ipykernel)",
   "language": "python",
   "name": "python3"
  },
  "language_info": {
   "codemirror_mode": {
    "name": "ipython",
    "version": 3
   },
   "file_extension": ".py",
   "mimetype": "text/x-python",
   "name": "python",
   "nbconvert_exporter": "python",
   "pygments_lexer": "ipython3",
   "version": "3.9.7"
  }
 },
 "nbformat": 4,
 "nbformat_minor": 5
}
