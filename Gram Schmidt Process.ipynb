{
 "cells": [
  {
   "cell_type": "code",
   "execution_count": 61,
   "id": "aaa1e5e3",
   "metadata": {},
   "outputs": [],
   "source": [
    "import numpy as np\n",
    "import numpy.linalg as la\n",
    "verySmallNumber = 1e-14"
   ]
  },
  {
   "cell_type": "code",
   "execution_count": 64,
   "id": "2bf07834",
   "metadata": {},
   "outputs": [],
   "source": [
    "def gsprocess(X):\n",
    "    Y = np.array(X, dtype = np.float_)\n",
    "    Y[:,0] = Y[:,0]/la.norm(Y[:,0])\n",
    "    for i in range(1, Y.shape[1]):\n",
    "        for j in range(0, i):\n",
    "            Y[:,i] = Y[:,i]-Y[:,i]@Y[:,j]*Y[:,j]\n",
    "            if la.norm(Y[:,i])>verySmallNumber:\n",
    "                Y[:,i] = Y[:,i]/la.norm(Y[:,i])\n",
    "            else:\n",
    "                Y[:, i] = np.zeros_like(Y[:,i])\n",
    "    return Y"
   ]
  },
  {
   "cell_type": "code",
   "execution_count": 65,
   "id": "5f8c33af",
   "metadata": {},
   "outputs": [],
   "source": [
    "nv = np.array([[5,0,3,4],\n",
    "              [2,1,9,2],\n",
    "              [-5,2,8,3],\n",
    "              [2,6,2,1]], dtype = np.float_)\n",
    "vg = gsprocess(nv)"
   ]
  },
  {
   "cell_type": "code",
   "execution_count": 67,
   "id": "365cef8a",
   "metadata": {},
   "outputs": [],
   "source": [
    "nv1 = np.array([[1,2,3],[4,5,6],[7,8,9]])"
   ]
  },
  {
   "cell_type": "code",
   "execution_count": 68,
   "id": "e7750638",
   "metadata": {},
   "outputs": [],
   "source": [
    "vg1 = gsprocess(nv1)"
   ]
  },
  {
   "cell_type": "code",
   "execution_count": 69,
   "id": "13b5456e",
   "metadata": {},
   "outputs": [
    {
     "data": {
      "text/plain": [
       "array([[ 0.12309149,  0.90453403,  0.        ],\n",
       "       [ 0.49236596,  0.30151134,  0.        ],\n",
       "       [ 0.86164044, -0.30151134,  0.        ]])"
      ]
     },
     "execution_count": 69,
     "metadata": {},
     "output_type": "execute_result"
    }
   ],
   "source": [
    "vg1"
   ]
  },
  {
   "cell_type": "code",
   "execution_count": null,
   "id": "8161648f",
   "metadata": {},
   "outputs": [],
   "source": []
  }
 ],
 "metadata": {
  "kernelspec": {
   "display_name": "Python 3 (ipykernel)",
   "language": "python",
   "name": "python3"
  },
  "language_info": {
   "codemirror_mode": {
    "name": "ipython",
    "version": 3
   },
   "file_extension": ".py",
   "mimetype": "text/x-python",
   "name": "python",
   "nbconvert_exporter": "python",
   "pygments_lexer": "ipython3",
   "version": "3.9.7"
  }
 },
 "nbformat": 4,
 "nbformat_minor": 5
}
